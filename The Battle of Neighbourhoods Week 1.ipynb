{
 "cells": [
  {
   "cell_type": "markdown",
   "metadata": {
    "collapsed": true
   },
   "source": [
    "# The Battle of Neighbourhoods"
   ]
  },
  {
   "cell_type": "markdown",
   "metadata": {},
   "source": [
    "# Business problem"
   ]
  },
  {
   "cell_type": "markdown",
   "metadata": {},
   "source": [
    "The problem I am going to solve with data from Foursquare and other sources is which city of Toronto and New York City, as well as which area of the chosen city, a Swedish pizza restaurant chain should open their next restaurant. The chain is called SwePizz and has an established brand in Sweden and it is time for them to expand internationally. They are confident that the brand will be strong in both Toronto and New York City and to choose their first entry in North America they want to find a neighbourhood with high population but few pizza restaurants in their price tier (tier 2). I will achieve this through two objectives:\n",
    "\n",
    "1. Find the ten most populated neighbourhoods in Toronto and New York City\n",
    "2. Find which one of these has the fewest pizza restaurants in price tier 2 per inhabitant\n",
    "\n",
    "The idea behind this is that the demand is assumed to be high in all areas since SwePizz's pizzas have historically captivated all categories of customers and therefore the focus is on finding an area with low supply in order to efficiently grow the customer base. In price tier 2 the price sensitivity is also assumed to be low among customers (i.e. it does not really matter whether a pizza costs 8 or 12 USD). "
   ]
  },
  {
   "cell_type": "markdown",
   "metadata": {},
   "source": [
    "# Target audience"
   ]
  },
  {
   "cell_type": "markdown",
   "metadata": {},
   "source": [
    "This research will be valuable to the owner and managing director of SwePizz in order to make an effective entry into their next market. Entering the right market will help them gain traction in a new area and start building their brand in North America, making it an important strategic decision for the long term."
   ]
  },
  {
   "cell_type": "markdown",
   "metadata": {},
   "source": [
    "# Data"
   ]
  },
  {
   "cell_type": "markdown",
   "metadata": {},
   "source": [
    "The data I will use for this project are:\n",
    "    \n",
    "- Toronto and New York City demographics from Wikipedia\n",
    "- Venue menus, price tiers, and areas from Foursquare\n",
    "\n",
    "The demographics data will show the ten most populated neighbourhoods in Toronto and New York City (note that I will disregard the potential fact that one city gets more entries than the other, or possibly even all/none).\n",
    "\n",
    "The venue menu and price data will show how many restaurants in price tier 2 serve pizza in the top ten populated areas."
   ]
  },
  {
   "cell_type": "code",
   "execution_count": null,
   "metadata": {},
   "outputs": [],
   "source": []
  }
 ],
 "metadata": {
  "kernelspec": {
   "display_name": "Python 3.7",
   "language": "python",
   "name": "python3"
  },
  "language_info": {
   "codemirror_mode": {
    "name": "ipython",
    "version": 3
   },
   "file_extension": ".py",
   "mimetype": "text/x-python",
   "name": "python",
   "nbconvert_exporter": "python",
   "pygments_lexer": "ipython3",
   "version": "3.7.9"
  }
 },
 "nbformat": 4,
 "nbformat_minor": 1
}
